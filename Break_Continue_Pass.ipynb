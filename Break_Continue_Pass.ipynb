{
 "cells": [
  {
   "cell_type": "markdown",
   "metadata": {},
   "source": [
    "# L'instruction BREAK\n",
    "\n",
    "## exemple : le juste prix\n",
    "        "
   ]
  },
  {
   "cell_type": "code",
   "execution_count": null,
   "metadata": {},
   "outputs": [],
   "source": [
    "import random \n",
    "alea = random.randint(0,9)\n",
    "guess = int(input(\"Entrez un chiffre\"))\n",
    "\n",
    "while 1:\n",
    "    if guess == alea:\n",
    "        print(\"Vous avez trouvé le bon chiffre !\")\n",
    "        break # rompt la boucle while lorsque la condition if est remplie\n",
    "    elif guess < alea:\n",
    "        guess = int(input(\"Le chiffre mystère est plus élevé\"))\n",
    "    else :\n",
    "        guess = int(input(\"Le chiffre mystère est plus petit\"))"
   ]
  },
  {
   "cell_type": "markdown",
   "metadata": {},
   "source": [
    "# L'instruction CONTINUE\n",
    "\n",
    "## exemple : le juste prix"
   ]
  },
  {
   "cell_type": "code",
   "execution_count": null,
   "metadata": {},
   "outputs": [],
   "source": [
    "import random \n",
    "alea = random.randint(0,9)\n",
    "guess = int(input(\"Entrez un chiffre\"))\n",
    "\n",
    "while 1:\n",
    "    if guess == alea:\n",
    "        print(\"Vous avez trouvé le bon chiffre !\")\n",
    "        break # rompt la boucle while lorsque la condition if est remplie\n",
    "    elif guess < alea:\n",
    "        guess = int(input(\"Le chiffre mystère est plus élevé\"))\n",
    "        continue #renvoi au prochain cycle de la boucle for (nous évite ici d'avoir à mettre un else)\n",
    "    guess = int(input(\"Le chiffre mystère est plus petit\"))        "
   ]
  },
  {
   "cell_type": "markdown",
   "metadata": {},
   "source": [
    "# L'instruction PASS"
   ]
  },
  {
   "cell_type": "code",
   "execution_count": null,
   "metadata": {},
   "outputs": [],
   "source": [
    "sequence = {'p', 'a', 's', 's'}\n",
    "\n",
    "for val in sequence:\n",
    "    pass #pass is just a placeholder for functionality to be added later"
   ]
  }
 ],
 "metadata": {
  "kernelspec": {
   "display_name": "Python 3",
   "language": "python",
   "name": "python3"
  },
  "language_info": {
   "codemirror_mode": {
    "name": "ipython",
    "version": 3
   },
   "file_extension": ".py",
   "mimetype": "text/x-python",
   "name": "python",
   "nbconvert_exporter": "python",
   "pygments_lexer": "ipython3",
   "version": "3.7.3"
  }
 },
 "nbformat": 4,
 "nbformat_minor": 2
}
